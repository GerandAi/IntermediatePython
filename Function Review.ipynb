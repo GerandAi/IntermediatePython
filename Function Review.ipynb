{
 "cells": [
  {
   "cell_type": "markdown",
   "metadata": {},
   "source": [
    "# Functions Review\n",
    "\n",
    "Function are reusable units of code that accept inputs and return outputs.  In the prerequisites for this course, you have learned how to write your own functions. In this course we will build on what we have learned and learn even more about writing and using our own function, but first, let's do a quick review.\n",
    "\n",
    "Below are some key points to remember as we review functions. We will discuss these in the lecture.\n",
    "\n",
    "Function review points:\n",
    "\n",
    "* Use the `def` keyword to start defining your own function.\n",
    "* The name of the function can consists of letter, numbers and underscores. It can not *begin* with a number.\n",
    "* You must have a `:` at the end of the first line of the function definition (the line that starts with def).\n",
    "* The body of the must be indented function indented."
   ]
  },
  {
   "cell_type": "code",
   "execution_count": 1,
   "metadata": {},
   "outputs": [],
   "source": [
    "# Because we will use the pi constant below, and pi is provided by the math\n",
    "# module, we will import it here at the top of the notebook.\n",
    "import math"
   ]
  },
  {
   "cell_type": "markdown",
   "metadata": {},
   "source": [
    "## Example Function 1:\n",
    "This is a a very simple function that takes one input.  It adds 2 to the input and then return the results. Note how we use the `def` keyword, the `:` at the end of the \"def\" line and we have indented the body of the function. Also note that we use the `return` keyword to return the results."
   ]
  },
  {
   "cell_type": "code",
   "execution_count": 2,
   "metadata": {},
   "outputs": [],
   "source": [
    "def add_2(num):\n",
    "    return_num = num + 2\n",
    "    return return_num"
   ]
  },
  {
   "cell_type": "code",
   "execution_count": 4,
   "metadata": {},
   "outputs": [
    {
     "name": "stdout",
     "output_type": "stream",
     "text": [
      "5\n"
     ]
    }
   ],
   "source": [
    "result = add_2(3)\n",
    "print(result)"
   ]
  },
  {
   "cell_type": "markdown",
   "metadata": {},
   "source": [
    "## Example Function 2:\n",
    "This is an example of a function that returns two outputs. This example is very similar to the example above, except that we are returning two variables from the function."
   ]
  },
  {
   "cell_type": "code",
   "execution_count": 7,
   "metadata": {},
   "outputs": [],
   "source": [
    "def circle(radius):\n",
    "    circumference = 2*math.pi*radius\n",
    "    area = math.pi*(radius**2)\n",
    "    return circumference, area"
   ]
  },
  {
   "cell_type": "code",
   "execution_count": 8,
   "metadata": {},
   "outputs": [
    {
     "name": "stdout",
     "output_type": "stream",
     "text": [
      "Area: 28.274333882308138\n",
      "Circumference: 18.84955592153876\n"
     ]
    }
   ],
   "source": [
    "C, A = circle(3)\n",
    "print('Area: {}'.format(A))\n",
    "print('Circumference: {}'.format(C))"
   ]
  },
  {
   "cell_type": "markdown",
   "metadata": {},
   "source": [
    "## Example Function 3:\n",
    "This is an example of a function that takes more than one input. Again, this example is very similar the ones above, bit it accepts more than one argument."
   ]
  },
  {
   "cell_type": "code",
   "execution_count": 12,
   "metadata": {},
   "outputs": [],
   "source": [
    "def replicate_items(my_list, num_reps):\n",
    "    new_list = []\n",
    "    for item in my_list:\n",
    "        for _ in range(num_reps):\n",
    "            new_list.append(item)\n",
    "    return new_list"
   ]
  },
  {
   "cell_type": "code",
   "execution_count": 13,
   "metadata": {},
   "outputs": [
    {
     "name": "stdout",
     "output_type": "stream",
     "text": [
      "['a', 'a', 'a', 'a', 'a', 'b', 'b', 'b', 'b', 'b', 'c', 'c', 'c', 'c', 'c']\n"
     ]
    }
   ],
   "source": [
    "a_list = ['a', 'b', 'c']\n",
    "new_list = replicate_items(a_list, 5)\n",
    "print(new_list)"
   ]
  },
  {
   "cell_type": "code",
   "execution_count": null,
   "metadata": {},
   "outputs": [],
   "source": []
  }
 ],
 "metadata": {
  "hide_input": false,
  "kernelspec": {
   "display_name": "Python 3",
   "language": "python",
   "name": "python3"
  },
  "language_info": {
   "codemirror_mode": {
    "name": "ipython",
    "version": 3
   },
   "file_extension": ".py",
   "mimetype": "text/x-python",
   "name": "python",
   "nbconvert_exporter": "python",
   "pygments_lexer": "ipython3",
   "version": "3.6.5"
  }
 },
 "nbformat": 4,
 "nbformat_minor": 2
}
