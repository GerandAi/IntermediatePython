{
 "cells": [
  {
   "cell_type": "markdown",
   "metadata": {},
   "source": [
    "# Functions Are First-Class Objects\n",
    "\n",
    "Functions can be treated like any other object in python.  This means they can be passed as argument to function and they can be return from other functions. They can be treated like any other variable!"
   ]
  },
  {
   "cell_type": "markdown",
   "metadata": {},
   "source": [
    "### An example of functions being passed as arguments to other functions"
   ]
  },
  {
   "cell_type": "markdown",
   "metadata": {},
   "source": [
    "You have already seen example of functions being passed as arguments to other function in the Intro To Python Course. Specifically, we saw this when we learned about the map function `map` function. \n",
    "\n",
    "Let's review an example of the `map` function below. In the cell below, we simply use `map` to multiply the element of every item in the list by 2. The `map` function takes two arguments, the first is the function we want to apply to the iterable and the second is the iterable. In this example we have passed a lambda function as the first argument.\n",
    "\n",
    "In the second cell below we also use the `map` function to multiple every element in the list by 2. However, instead of passing a lambda function, we pass a defined function.\n",
    "\n",
    "Both of these examples are valid and both are examples of passing a function as an argument to another function."
   ]
  },
  {
   "cell_type": "code",
   "execution_count": 1,
   "metadata": {},
   "outputs": [
    {
     "name": "stdout",
     "output_type": "stream",
     "text": [
      "[2, 4, 6, 8]\n"
     ]
    }
   ],
   "source": [
    "my_list = [1, 2, 3, 4]\n",
    "result = map(lambda x: x*2, my_list)\n",
    "print(list(result))"
   ]
  },
  {
   "cell_type": "code",
   "execution_count": 4,
   "metadata": {},
   "outputs": [
    {
     "name": "stdout",
     "output_type": "stream",
     "text": [
      "[2, 4, 6, 8]\n"
     ]
    }
   ],
   "source": [
    "def multiply_by_2(x):\n",
    "    return x*2\n",
    "result = map(multiply_by_2, my_list)\n",
    "print(list(result))"
   ]
  },
  {
   "cell_type": "markdown",
   "metadata": {},
   "source": [
    "**NOTE there is a difference between writing function_name and function_name()**: When you pass a function as an argument to another function, you only write the function name, you do not include the `()`. Look in the cell above and note how we pass `multply_by_2` as an argument to the map function. We just type `multiply_by_2`, we do not include the parentheses. \n",
    "\n",
    "The reason is because `multiply_by_2` refers to the function object, but `multiply_by_2()` evaluates (executes) the function."
   ]
  },
  {
   "cell_type": "markdown",
   "metadata": {},
   "source": [
    "Let's take a closer look at the difference in the cell below. In the cell below we have two functions. The first function, `return_hello`, is a very simple function that just returns the string 'hello' when it is evaluated. The second function, `print_arg` is also a simple function that simple print the argument that is passed to it.  Notice the different in what `print_arg` prints when we pass `return_hello` to it vs. when we pass `return_hello()` to it."
   ]
  },
  {
   "cell_type": "code",
   "execution_count": 5,
   "metadata": {},
   "outputs": [
    {
     "name": "stdout",
     "output_type": "stream",
     "text": [
      "Below is the result of passing the function return_hello to the function print_arg:\n",
      "<function return_hello at 0x10851cbf8>\n",
      "\n",
      "Below is the result of passing the return_hello() to the function print_arg:\n",
      "hello\n"
     ]
    }
   ],
   "source": [
    "def return_hello():\n",
    "    '''Return the string hello'''\n",
    "    return 'hello'\n",
    "\n",
    "def print_arg(x):\n",
    "    'Print x'\n",
    "    print(x)\n",
    "\n",
    "print(\"Below is the result of passing the function return_hello to the function print_arg:\")\n",
    "print_arg(return_hello)\n",
    "\n",
    "print(\"\\nBelow is the result of passing the return_hello() to the function print_arg:\")\n",
    "print_arg(return_hello())"
   ]
  },
  {
   "cell_type": "markdown",
   "metadata": {},
   "source": [
    "### An example of functions being returned from other functions\n",
    "\n",
    "Functions can also be returned from other functions. We see an example of this in the cell below. We have a function, `outer_function`, that has another function, `inner_function`, defined within it. It returns this inner function.\n",
    "\n",
    "We can then evaluate the `outer_function`, this will return the `inner_function`, and we can assign that function to any name we like. In this case, we assign it to the name `my_function`. This can now be thought of as a copy of the `inner_function`, but it is named `my_function`.\n",
    "\n",
    "We can evaluate `outer_function` again, and this time assign the returned value to the name `my_function_2`. We now effectively have two copies of `inner_function` that are called `my_function` and `my_function_2`, and we can evaluate both of them as shown in the cell below."
   ]
  },
  {
   "cell_type": "code",
   "execution_count": 6,
   "metadata": {},
   "outputs": [
    {
     "name": "stdout",
     "output_type": "stream",
     "text": [
      "printing the result of my_function(): Hello\n",
      "printing the result of my_function(): Hello\n",
      "printing the result of my_function_2(): Hello\n",
      "inner_function\n",
      "I am a function that was defined inside another function\n"
     ]
    }
   ],
   "source": [
    "def outer_function():\n",
    "    \"\"\"Define and return a function\"\"\"\n",
    "    \n",
    "    def inner_function():\n",
    "        \"\"\"I am a function that was defined inside another function\"\"\"\n",
    "        return \"Hello\"\n",
    "    \n",
    "    return inner_function\n",
    "\n",
    "# We use outer_function and assign the returned function to the name my_function\n",
    "my_function = outer_function()\n",
    "\n",
    "# We then evaluate the function and it returns hello, which we print.\n",
    "result = my_function()\n",
    "print('printing the result of my_function():', result)\n",
    "\n",
    "# Let's now use outer_function again and assign the returned function to the\n",
    "# name my_function_2\n",
    "my_function_2 = outer_function()\n",
    "\n",
    "# We can evaluate my_function again, and print the result. Then we can evaluate\n",
    "# my_function_2 and print the result.\n",
    "result_1 = my_function()\n",
    "print('printing the result of my_function():', result_1)\n",
    "result_2 = my_function_2()\n",
    "print('printing the result of my_function_2():', result_2)\n",
    "\n",
    "# Observe what prints when we print the __name__ and __doc__ attributes of \n",
    "# my_function\n",
    "print(my_function.__name__)\n",
    "print(my_function.__doc__)"
   ]
  },
  {
   "cell_type": "code",
   "execution_count": null,
   "metadata": {},
   "outputs": [],
   "source": []
  }
 ],
 "metadata": {
  "hide_input": false,
  "kernelspec": {
   "display_name": "Python 3",
   "language": "python",
   "name": "python3"
  },
  "language_info": {
   "codemirror_mode": {
    "name": "ipython",
    "version": 3
   },
   "file_extension": ".py",
   "mimetype": "text/x-python",
   "name": "python",
   "nbconvert_exporter": "python",
   "pygments_lexer": "ipython3",
   "version": "3.6.5"
  }
 },
 "nbformat": 4,
 "nbformat_minor": 2
}
