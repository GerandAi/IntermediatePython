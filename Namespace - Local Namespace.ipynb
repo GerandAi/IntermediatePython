{
 "cells": [
  {
   "cell_type": "markdown",
   "metadata": {},
   "source": [
    "# Reviewing Namespaces: Local Namespaces\n",
    "\n",
    "In the previous lecture we learned about the global namespace. This is not the only namespace - multiple namespaces can exist at the same time! Another kind of namespaces is the **local namespace**. A local namespace and a global namespace can exist at the same time. The best way to illustrate this is through the example below.\n",
    "\n",
    "In the example below, we create a variable called `my_text` and assign it a value. Then, we define a function called `my_func` and inside this function we create another variable also called `my_text` and assign it a different value.  When you run the code, you will see that the second `my_text` does not replace the first `my_text`. How is this?  We just said in the previous lecture that you can not have two different variables of the same name in the same namespace, so how does the code below work? The code works because any variable created inside the function is not created in the global namespace, but it is created in what's called a **local namespace**. This namespace is local to the function (each function has its own local namespace)."
   ]
  },
  {
   "cell_type": "code",
   "execution_count": 1,
   "metadata": {},
   "outputs": [
    {
     "name": "stdout",
     "output_type": "stream",
     "text": [
      "I am inside the function and in the function's LOCAL namespace!\n",
      "I am outside the function and in the notebook's GLOBAL namespace!\n"
     ]
    }
   ],
   "source": [
    "my_text = \"I am outside the function and in the notebook's GLOBAL namespace!\"\n",
    "\n",
    "def my_func():\n",
    "    my_text = \"I am inside the function and in the function's LOCAL namespace!\"\n",
    "    print(my_text)\n",
    "    return\n",
    "\n",
    "# Now run the function\n",
    "my_func()\n",
    "# Print my_text\n",
    "print(my_text)"
   ]
  },
  {
   "cell_type": "markdown",
   "metadata": {},
   "source": [
    "## Let's now add dir() to the body of the function so that we can print the names in the function's local namespace"
   ]
  },
  {
   "cell_type": "code",
   "execution_count": 2,
   "metadata": {},
   "outputs": [
    {
     "name": "stdout",
     "output_type": "stream",
     "text": [
      "These are the names in the global namespace:\n",
      "['In', 'Out', '_', '__', '___', '__builtin__', '__builtins__', '__doc__', '__loader__', '__name__', '__package__', '__spec__', '_dh', '_i', '_i1', '_i2', '_ih', '_ii', '_iii', '_oh', 'exit', 'get_ipython', 'my_func', 'my_text', 'quit'] \n",
      "\n",
      "These are the names in the function's local namespace:\n",
      "['my_text'] \n",
      "\n",
      "I am inside the function in the function's LOCAL namespace!\n",
      "I am outside the function in the notebooks GLOBAL namespace!\n"
     ]
    }
   ],
   "source": [
    "my_text = 'I am outside the function in the notebooks GLOBAL namespace!'\n",
    "print(\"These are the names in the global namespace:\")\n",
    "print(dir(), '\\n')\n",
    "\n",
    "def my_func_b():\n",
    "    my_text = \"I am inside the function in the function's LOCAL namespace!\"\n",
    "    print(\"These are the names in the function's local namespace:\")\n",
    "    print(dir(), '\\n')\n",
    "    print(my_text)\n",
    "    return\n",
    "\n",
    "# Now run the function\n",
    "my_func_b()\n",
    "# Print my_text\n",
    "print(my_text)"
   ]
  },
  {
   "cell_type": "markdown",
   "metadata": {},
   "source": [
    "## There can be multiple local namespaces\n",
    "Each function has its own local namespace."
   ]
  },
  {
   "cell_type": "code",
   "execution_count": 3,
   "metadata": {},
   "outputs": [
    {
     "name": "stdout",
     "output_type": "stream",
     "text": [
      "These are the names in the global namespace:\n",
      "['In', 'Out', '_', '__', '___', '__builtin__', '__builtins__', '__doc__', '__loader__', '__name__', '__package__', '__spec__', '_dh', '_i', '_i1', '_i2', '_i3', '_ih', '_ii', '_iii', '_oh', 'exit', 'get_ipython', 'my_func', 'my_func_b', 'my_text', 'quit'] \n",
      "\n",
      "These are the names in the 1st function's local namespace:\n",
      "['my_text_1'] \n",
      "\n",
      "I am inside the 1st function in the function's LOCAL namespace! \n",
      "\n",
      "These are the names in the 2nd function's local namespace:\n",
      "['my_text_2'] \n",
      "\n",
      "I am inside the 2nd function in the function's LOCAL namespace! \n",
      "\n",
      "I am outside the function in the notebooks GLOBAL namespace!\n"
     ]
    }
   ],
   "source": [
    "my_text = 'I am outside the function in the notebooks GLOBAL namespace!'\n",
    "print(\"These are the names in the global namespace:\")\n",
    "print(dir(), '\\n')\n",
    "\n",
    "def my_func_1():\n",
    "    my_text_1 = \"I am inside the 1st function in the function's LOCAL namespace!\"\n",
    "    print(\"These are the names in the 1st function's local namespace:\")\n",
    "    print(dir(), '\\n')\n",
    "    print(my_text_1, '\\n')\n",
    "    return\n",
    "\n",
    "def my_func_2():\n",
    "    my_text_2 = \"I am inside the 2nd function in the function's LOCAL namespace!\"\n",
    "    print(\"These are the names in the 2nd function's local namespace:\")\n",
    "    print(dir(), '\\n')\n",
    "    print(my_text_2, '\\n')\n",
    "    return\n",
    "\n",
    "# Now run the function\n",
    "my_func_1()\n",
    "\n",
    "my_func_2()\n",
    "# Print my_text\n",
    "print(my_text)"
   ]
  },
  {
   "cell_type": "code",
   "execution_count": 4,
   "metadata": {},
   "outputs": [
    {
     "name": "stdout",
     "output_type": "stream",
     "text": [
      "These are the names in the global namespace:\n",
      "['In', 'Out', '_', '__', '___', '__builtin__', '__builtins__', '__doc__', '__loader__', '__name__', '__package__', '__spec__', '_dh', '_i', '_i1', '_i2', '_i3', '_i4', '_ih', '_ii', '_iii', '_oh', 'exit', 'get_ipython', 'my_func', 'my_func_1', 'my_func_2', 'my_func_b', 'my_text', 'quit'] \n",
      "\n",
      "These are the names in the 1st function's local namespace:\n",
      "['my_text_1'] \n",
      "\n",
      "Hello! \n",
      "\n",
      "These are the names in the 2nd function's local namespace:\n",
      "['my_text_2'] \n",
      "\n",
      "Goodbye! \n",
      "\n",
      "I am outside the function in the notebooks GLOBAL namespace!\n"
     ]
    }
   ],
   "source": [
    "my_text = 'I am outside the function in the notebooks GLOBAL namespace!'\n",
    "print(\"These are the names in the global namespace:\")\n",
    "print(dir(), '\\n')\n",
    "\n",
    "def my_func_1(my_text_1):\n",
    "    print(\"These are the names in the 1st function's local namespace:\")\n",
    "    print(dir(), '\\n')\n",
    "    print(my_text_1, '\\n')\n",
    "    return\n",
    "\n",
    "def my_func_2(my_text_2):\n",
    "    print(\"These are the names in the 2nd function's local namespace:\")\n",
    "    print(dir(), '\\n')\n",
    "    print(my_text_2, '\\n')\n",
    "    return\n",
    "\n",
    "# Now run the function\n",
    "my_func_1(\"Hello!\")\n",
    "\n",
    "my_func_2(\"Goodbye!\")\n",
    "# Print my_text\n",
    "print(my_text)"
   ]
  },
  {
   "cell_type": "code",
   "execution_count": null,
   "metadata": {},
   "outputs": [],
   "source": []
  }
 ],
 "metadata": {
  "hide_input": false,
  "kernelspec": {
   "display_name": "Python 3",
   "language": "python",
   "name": "python3"
  },
  "language_info": {
   "codemirror_mode": {
    "name": "ipython",
    "version": 3
   },
   "file_extension": ".py",
   "mimetype": "text/x-python",
   "name": "python",
   "nbconvert_exporter": "python",
   "pygments_lexer": "ipython3",
   "version": "3.6.5"
  }
 },
 "nbformat": 4,
 "nbformat_minor": 2
}
