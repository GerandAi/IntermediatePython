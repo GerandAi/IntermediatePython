{
 "cells": [
  {
   "cell_type": "markdown",
   "metadata": {},
   "source": [
    "# Function Arguments:\n",
    "\n",
    "So far, we have passed arguments to functions based on their order (position) in the function definition. These are called positional arguments because the arguments are assigned based on their position when passed to the function.  We can also specify arguments as keyword arguments, for which position does not matter.\n",
    "\n",
    "Below we will learn about both positional and keyword arguments.  We will learn how you can use them and why you should use them, and also how you can use both together."
   ]
  },
  {
   "cell_type": "markdown",
   "metadata": {},
   "source": [
    "## Positional Arguments\n",
    "\n",
    "Positional arguments are what we have used thus far. These are argument that are assigned based on their position in the function definition.  A few examples below will make this clear."
   ]
  },
  {
   "cell_type": "markdown",
   "metadata": {},
   "source": [
    "### Example 1\n",
    "Below is a function that prints a simple greeting message. It takes two arguments, a username and a date (both strings).  Let's test it out."
   ]
  },
  {
   "cell_type": "code",
   "execution_count": null,
   "metadata": {},
   "outputs": [],
   "source": [
    "def print_greeting(username, date):\n",
    "    \"\"\"Print a simple greeting\"\"\"\n",
    "    greeting = 'Greetings, {}. The date is {}'.format(username, date)\n",
    "    print(greeting)"
   ]
  },
  {
   "cell_type": "code",
   "execution_count": null,
   "metadata": {},
   "outputs": [],
   "source": [
    "# test the function\n",
    "print_greeting('Ronda', '2019-01-01')"
   ]
  },
  {
   "cell_type": "markdown",
   "metadata": {},
   "source": [
    "Why did the function treat 'Ronda' as the username argument and '2019-01-01' as the date argument? The answer is simple: it is because 'Ronda' was the first argument passed to the function and, in the function definition, username is the first argument in the function signature.\n",
    "\n",
    "The arguments are assignes by *position*."
   ]
  },
  {
   "cell_type": "markdown",
   "metadata": {},
   "source": [
    "### Example 2\n",
    "Below is a function that calculates the result of a simple equation.  Let's test it out..."
   ]
  },
  {
   "cell_type": "code",
   "execution_count": null,
   "metadata": {},
   "outputs": [],
   "source": [
    "def simple_equation(arg1, arg2, arg3):\n",
    "    \"\"\"Return the value of arg1 - arg2*arg3\"\"\"\n",
    "    return arg1 - arg2*arg3"
   ]
  },
  {
   "cell_type": "code",
   "execution_count": null,
   "metadata": {},
   "outputs": [],
   "source": [
    "result = simple_equation(10, 3, .5)\n",
    "print(result)"
   ]
  },
  {
   "cell_type": "markdown",
   "metadata": {},
   "source": [
    "Why was 10 assigned to arg1, 3 to arg2 and 0.5 to arg3? It is because of the position in which they were passed as arguments to the function. These are positional arguments."
   ]
  },
  {
   "cell_type": "markdown",
   "metadata": {},
   "source": [
    "## Keyword Arguments\n",
    "\n",
    "Keyword arguments are arguments that are passed to a function by the argument name.  For example, when calling the `print_greeting` function we can pass the arguments as shown in the cell below."
   ]
  },
  {
   "cell_type": "code",
   "execution_count": null,
   "metadata": {},
   "outputs": [],
   "source": [
    "my_name = \"Will\"\n",
    "today = \"2019-07-01\"\n",
    "print_greeting(date=today, username=my_name)\n",
    "\n",
    "print_greeting(username=\"Padma\", date=\"2019-03-01\")"
   ]
  },
  {
   "cell_type": "markdown",
   "metadata": {},
   "source": [
    "Note how the arguments are no longer passed in the \"correct\" order (at least in the first call to the function above), but they are assigned to the specific argument name. I.e. we assigned `\"2019-07-01\"` to the `date` argument and we asigned `\"Will\"` to the `username` argument. You can pass keyword argument in any order.\n",
    "\n",
    "One of the advantages of passing arguments as keyword arguments is that it makes the code easier to read. When reading code that uses the `print_greeting()` function, we would know that it takes `username` and `date` arguments."
   ]
  },
  {
   "cell_type": "markdown",
   "metadata": {},
   "source": [
    "## Sometimes you can't use keyword to specify arguments, and sometimes you can only use keywords to specify certain arguments.\n",
    "\n",
    "Many built in Python function are implemented in C and use a position-only API for processing argument. That means that there are some function with arguments that can not be specified by keyword.  One example is sorted, let's call help on sorted."
   ]
  },
  {
   "cell_type": "code",
   "execution_count": null,
   "metadata": {},
   "outputs": [],
   "source": [
    "help(sorted)"
   ]
  },
  {
   "cell_type": "markdown",
   "metadata": {},
   "source": [
    "Notice the `/` in the function signature above?  This indicates that all the argument to the left of it can ONLY be specified by position. That is you can not pass the 'iterable' argument by keyword. (You may notice the `*` in the signature as well, we will discuss that in a moment)"
   ]
  },
  {
   "cell_type": "code",
   "execution_count": null,
   "metadata": {},
   "outputs": [],
   "source": [
    "my_list = [2, 3, 1]\n",
    "\n",
    "# We incorrectly try to pass the iterable argument by keyword. This will\n",
    "# produce an error\n",
    "sorted_list = sorted(iterable=my_list)"
   ]
  },
  {
   "cell_type": "code",
   "execution_count": null,
   "metadata": {},
   "outputs": [],
   "source": [
    "# We correctly pass the iterable argument by position\n",
    "sorted_list = sorted(my_list)\n",
    "print(sorted_list)"
   ]
  },
  {
   "cell_type": "markdown",
   "metadata": {},
   "source": [
    "Now, what about the `*` in the function signature? This means that you can ONLY specify the arguments to the right of it by keyword.  For example, in the sorted function, the arguments `key` and `reverse` can only be specified by keywords. See an example below:"
   ]
  },
  {
   "cell_type": "code",
   "execution_count": null,
   "metadata": {},
   "outputs": [],
   "source": [
    "my_list = ['a_3', 'b_2', 'c_1']\n",
    "sorted_list = sorted(my_list, key=lambda x: x.split('_')[-1])\n",
    "print(sorted_list)"
   ]
  },
  {
   "cell_type": "markdown",
   "metadata": {},
   "source": [
    "## Introducing \\*args\n",
    "Now, take your mind back to positional arguments.  What if you want a function to accept unlimited positional arguments? This is what the `*args` argument can do. By using the `*args` argument in our function definition, all positional arguments will be collected in a tuple named `args`. Let's define a function below using the `*args` argument to see how this works"
   ]
  },
  {
   "cell_type": "code",
   "execution_count": null,
   "metadata": {},
   "outputs": [],
   "source": [
    "def args_example(*args):\n",
    "    '''Print the contents of args.'''\n",
    "    print(args)\n",
    "    \n",
    "args_example('Miguel', 'Mary', 'Paul')"
   ]
  },
  {
   "cell_type": "code",
   "execution_count": null,
   "metadata": {},
   "outputs": [],
   "source": [
    "def print_all_the_greetings(*args):\n",
    "    '''Print \"Greetings {name} for all the names passed as arguments'''\n",
    "    for name in args:\n",
    "        print(\"Greetings {}\".format(name))"
   ]
  },
  {
   "cell_type": "code",
   "execution_count": null,
   "metadata": {},
   "outputs": [],
   "source": [
    "print_all_the_greetings('Winston', 'Aarav', 'Julie', 'Will')"
   ]
  },
  {
   "cell_type": "markdown",
   "metadata": {},
   "source": [
    "## Combining \\*args with other positional arguments.\n",
    "You can have positional arguments *before* \\*args. \\*args will collect all the extra position arguments passed to the function."
   ]
  },
  {
   "cell_type": "code",
   "execution_count": null,
   "metadata": {},
   "outputs": [],
   "source": [
    "def print_all_the_greetings_2(greeting, *args):\n",
    "    '''Print \"{greeting}, {name} for the greeting and all the names passed as\n",
    "    arguments\n",
    "    '''\n",
    "    for name in args:\n",
    "        print(\"{}, {}\".format(greeting, name))"
   ]
  },
  {
   "cell_type": "code",
   "execution_count": null,
   "metadata": {},
   "outputs": [],
   "source": [
    "print_all_the_greetings_2('Good Morning', 'Winston', 'Aarav', 'Julie')"
   ]
  },
  {
   "cell_type": "markdown",
   "metadata": {},
   "source": [
    "## Introducing \\*\\*kwargs\n",
    "\n",
    "Much like `*args` captures extra positional arguments, `**kwargs` captures extra keyword arguments in a dictionary called `kwargs`. Lets' see an example below."
   ]
  },
  {
   "cell_type": "code",
   "execution_count": null,
   "metadata": {},
   "outputs": [],
   "source": [
    "def kwargs_example(**kwargs):\n",
    "    \"\"\"Print kwargs\"\"\"\n",
    "    print(kwargs)"
   ]
  },
  {
   "cell_type": "code",
   "execution_count": null,
   "metadata": {},
   "outputs": [],
   "source": [
    "kwargs_example(name=\"Paloma\", occupation='teacher')"
   ]
  },
  {
   "cell_type": "code",
   "execution_count": null,
   "metadata": {},
   "outputs": [],
   "source": [
    "def string_replace(string, **kwargs):\n",
    "    for key in kwargs:\n",
    "        string = string.replace(key, kwargs[key])\n",
    "    return string"
   ]
  },
  {
   "cell_type": "code",
   "execution_count": null,
   "metadata": {},
   "outputs": [],
   "source": [
    "old_string = \"The square is 1 foot by 10 inches\"\n",
    "new_string = string_replace(old_string, foot='meter', inches='feet')\n",
    "print(new_string)"
   ]
  },
  {
   "cell_type": "markdown",
   "metadata": {},
   "source": [
    "## Mixing Positional and Keyword Arguments.\n",
    "When using both positional and keyword arguments you must specify the positional arguments *first*."
   ]
  },
  {
   "cell_type": "code",
   "execution_count": null,
   "metadata": {},
   "outputs": [],
   "source": [
    "print_greeting(username=\"Padma\", date=\"2019-03-01\")"
   ]
  },
  {
   "cell_type": "code",
   "execution_count": null,
   "metadata": {},
   "outputs": [],
   "source": [
    "print_greeting(username=\"Padma\", \"2019-03-01\")"
   ]
  },
  {
   "cell_type": "code",
   "execution_count": null,
   "metadata": {},
   "outputs": [],
   "source": [
    "print_greeting(\"Padma\", date=\"2019-03-01\")"
   ]
  },
  {
   "cell_type": "markdown",
   "metadata": {},
   "source": [
    "## Mixing Positional Arguments, \\*args, Keyword Arguments and \\*\\*kwargs"
   ]
  },
  {
   "cell_type": "code",
   "execution_count": null,
   "metadata": {},
   "outputs": [],
   "source": [
    "def test_arg_and_kwarg(arg1, arg2, *args, kwarg1, kwarg2, **kwargs):\n",
    "    print(arg1)\n",
    "    print(arg2)\n",
    "    print(args)\n",
    "    print(kwarg1)\n",
    "    print(kwarg2)\n",
    "    print(kwargs)\n",
    "    return"
   ]
  },
  {
   "cell_type": "code",
   "execution_count": null,
   "metadata": {},
   "outputs": [],
   "source": [
    "test_arg_and_kwarg(1, 2, 'extra_1', 'extra_2', kwarg1='kwarg 1',\n",
    "                   kwarg2='kwarg 2', extra_kwarg1='Bonus!',\n",
    "                  extra_kwarg2=\"I'm extra!\")"
   ]
  },
  {
   "cell_type": "markdown",
   "metadata": {},
   "source": [
    "## Default Arguments\n",
    "\n",
    "Sometimes you want to specify a default argument value to one of the arguments in your function. This means that if no value is passed to that specific argument, it will still have a default value and the function will run successfully.\n",
    "\n",
    "This is very common. In fact, let's look at the documentation for the built in function `sorted` again (in the cell below).\n",
    "\n",
    "See the 'key=None' and the 'reverse=False' in the function signature? This indicates that the default value for key is None, and the default value for reverse is False. This means that if we use the sorted function, these will be the values for these arguments if we do not specify other values."
   ]
  },
  {
   "cell_type": "code",
   "execution_count": null,
   "metadata": {},
   "outputs": [],
   "source": [
    "help(sorted)"
   ]
  },
  {
   "cell_type": "markdown",
   "metadata": {},
   "source": [
    "Let's look at another example of default arguments. The following link will take you to the documentation for scikit-learns logistic regression class (we cover classes later in the course, but for now you can read the top line as if this is a regular function).\n",
    "\n",
    "http://scikit-learn.org/stable/modules/generated/sklearn.linear_model.LogisticRegression.html\n",
    "\n",
    "Notice how there is a default value for every argument? The default penalty is l2, the default dual value is False, etc...\n",
    "\n",
    "P.S. We take a closer look at scikit-learn in \"Data Preparation, Modeling, and Visualization with Python\""
   ]
  },
  {
   "cell_type": "markdown",
   "metadata": {},
   "source": [
    "## You can use \\* and \\*\\* to pass arguments to functions.\n",
    "\n",
    "Just as we used the \\* and \\*\\* to collection arguments that are passed to a function, you can also use the to pass arguments to a function from a tuple or dictionary.  Let's walk through two examples below."
   ]
  },
  {
   "cell_type": "code",
   "execution_count": null,
   "metadata": {},
   "outputs": [],
   "source": [
    "def my_function(x, y):\n",
    "    result = x**2-y**(0.5)\n",
    "    return result\n",
    "    \n",
    "# Here we use the function and pass the values directly\n",
    "result1 = my_function(2.1, 0.6)\n",
    "\n",
    "# Belww, we define a tuple with the values, and then pass those values to the\n",
    "# function by indexing them from the tuple.\n",
    "values = (2.1, 0.6)\n",
    "result2 = my_function(values[0], values[1])\n",
    "\n",
    "# Here, we just use the '*' to dump the arguments in the values tuple directly\n",
    "# to the function\n",
    "result3 = my_function(*values)\n",
    "\n",
    "# Finally, print all three results so that we ensure all methods give the same\n",
    "#result\n",
    "print(result1, result2, result3)"
   ]
  },
  {
   "cell_type": "code",
   "execution_count": null,
   "metadata": {},
   "outputs": [],
   "source": [
    "def my_greeting(date, greeting):\n",
    "    print('{}: {}'.format(date, greeting))\n",
    "    \n",
    "# Here we use the function and pass the values directly\n",
    "my_greeting('2018-11-07', \"How are you today?\")\n",
    "\n",
    "# Below, we define a tuple with the values, and then pass those values to the\n",
    "# function by indexing them from the tuple.\n",
    "my_greeting(greeting='How are you today?', date='2018-11-07')\n",
    "\n",
    "# Here, we just use the '*' to dump the arguments in the values tuple directly\n",
    "# to the function\n",
    "values = {'greeting': 'How are you today?', 'date': '2018-11-07'}\n",
    "my_greeting(**values)"
   ]
  },
  {
   "cell_type": "markdown",
   "metadata": {},
   "source": [
    "## Let's look at an example of a built-in function that actually uses args and kwargs!\n",
    "\n",
    "You have learned a lot about positional arguments, keyword arguments, `*args` and `**kwargs`, and we have created some simple functions to help understand these concepts. Now, let's look at a built-in functions that uses both `*args` and `**kwargs`.\n",
    "\n",
    "The function is the `format` method of string objects.  Depending on which version of the prerequisite course you have taken, you may have already seen this, but we will do a quick review anyways."
   ]
  },
  {
   "cell_type": "markdown",
   "metadata": {},
   "source": [
    "### The .format() method of a string object.\n",
    "One of the preferred methods to format strings in Python is to use the format method of string objects. (The latest preferred method is something called 'f strings'). Observe the example below.  First, we define a string and we put `{}` in the string wherever we would like to fill in the string by a variable. We then call the `.format()` method on the string and pass to it the variables we would like to use to fill in the `{}` portions of the string.  The `{}` are filled in by the order we pass the variables to the `.format()` method.\n",
    "\n",
    "I realize how confusing the above explanation may be, but we will talk through the example below in the lecture,"
   ]
  },
  {
   "cell_type": "code",
   "execution_count": null,
   "metadata": {},
   "outputs": [],
   "source": [
    "my_string = 'Hi, my name is {}. I live in {} and I work at {}'.format('Will', 'California', 'UCI')\n",
    "print(my_string)"
   ]
  },
  {
   "cell_type": "markdown",
   "metadata": {},
   "source": [
    "The point here is that `.format()` can accept *any* number of arguments, it just depend how many `{}` we have to fill in in the string.  How does `.format()` do this? It uses the \\*args argument to capture all of the positional arguments passed, and then it fills in the `{}` in the order of the arguments."
   ]
  },
  {
   "cell_type": "markdown",
   "metadata": {},
   "source": [
    "### The .format() method also uses kwargs!\n",
    "\n",
    "Format also supports keywords, observe the example below:"
   ]
  },
  {
   "cell_type": "code",
   "execution_count": null,
   "metadata": {},
   "outputs": [],
   "source": [
    "my_string = 'Hi, my name is {name}. I live in {home} and I work at {work}'. \\\n",
    "    format(name='Will', home='California', work='UCI')\n",
    "print(my_string)"
   ]
  },
  {
   "cell_type": "code",
   "execution_count": null,
   "metadata": {},
   "outputs": [],
   "source": []
  }
 ],
 "metadata": {
  "hide_input": false,
  "kernelspec": {
   "display_name": "Python 3",
   "language": "python",
   "name": "python3"
  },
  "language_info": {
   "codemirror_mode": {
    "name": "ipython",
    "version": 3
   },
   "file_extension": ".py",
   "mimetype": "text/x-python",
   "name": "python",
   "nbconvert_exporter": "python",
   "pygments_lexer": "ipython3",
   "version": "3.6.5"
  }
 },
 "nbformat": 4,
 "nbformat_minor": 2
}
