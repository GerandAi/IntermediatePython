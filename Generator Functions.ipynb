{
 "cells": [
  {
   "cell_type": "markdown",
   "metadata": {},
   "source": [
    "# Iterators and Generators\n",
    "\n",
    "In this notebook we will learn about iterators and generator functions!\n",
    "\n",
    "You have already used iterators in the prerequisite course, but we have not formally introduced them yet.  We will introduce them, and then learn how to write generator functions which allow us to define custom iterators."
   ]
  },
  {
   "cell_type": "code",
   "execution_count": null,
   "metadata": {},
   "outputs": [],
   "source": [
    "import os\n",
    "from IPython.core.debugger import set_trace"
   ]
  },
  {
   "cell_type": "markdown",
   "metadata": {},
   "source": [
    "## Introducing Iterators: another look at range()\n",
    "\n",
    "If you remember from the previous course, we introduced the `range()` function when discussing for-loops. The `range()` function returns an iterator that will iterate through the values that we specify when we call `range()`.\n",
    "\n",
    "The iterator only calculates and yields one value at a time. Below, there are two examples fusing range.  In example 1, range iterates from 5 through 7, and it does not calculate or store those numbers in memory up front, it calculates them only when they are needed, one at a time."
   ]
  },
  {
   "cell_type": "code",
   "execution_count": null,
   "metadata": {},
   "outputs": [],
   "source": [
    "print('range example 1:')\n",
    "for x in range(5, 8):\n",
    "    print(x)\n",
    "    \n",
    "print('range example 2:')\n",
    "my_range = range(11, 23)\n",
    "for x in my_range:\n",
    "    print(x)"
   ]
  },
  {
   "cell_type": "markdown",
   "metadata": {},
   "source": [
    "## File Object Are Also Iterators\n",
    "You may have remembered from the prerequisite course how we opened files and iterated through the lines one at a time. I will walk through the example below in the lecture. The main takeaway of this lecture is that each line is read in (iterated through) one at a time.  The entire file is not read up-front, each line is read into this notebook one at a time, as needed."
   ]
  },
  {
   "cell_type": "code",
   "execution_count": null,
   "metadata": {},
   "outputs": [],
   "source": [
    "filepath = os.path.join(os.getcwd(), 'AAA_Fuel_Prices.csv')\n",
    "count = 0\n",
    "with open(filepath, 'r') as my_file:\n",
    "    for line in my_file:\n",
    "        line = line.strip()\n",
    "        print(line)\n",
    "        count += 1\n",
    "        if count > 10:\n",
    "            break"
   ]
  },
  {
   "cell_type": "markdown",
   "metadata": {},
   "source": [
    "## Iterators Can Also Be Made From Lists (as well as other data types)\n",
    "\n",
    "Iterators can also be made out of lists. This is what happens when we use a list in a for loop."
   ]
  },
  {
   "cell_type": "code",
   "execution_count": null,
   "metadata": {},
   "outputs": [],
   "source": [
    "my_list = [1, 2, 3, 4, 5]\n",
    "for x in my_list:\n",
    "    print(x)"
   ]
  },
  {
   "cell_type": "code",
   "execution_count": null,
   "metadata": {},
   "outputs": [],
   "source": [
    "my_list_iterator = iter(my_list)\n",
    "\n",
    "print(type(my_list_iterator))\n",
    "print(my_list_iterator.__next__())\n",
    "print(my_list_iterator.__next__())\n",
    "print(my_list_iterator.__next__())"
   ]
  },
  {
   "cell_type": "markdown",
   "metadata": {},
   "source": [
    "## Introducing Generators\n",
    "\n",
    "You may wonder how can we write functions, like `range()`, that return iterators that we can iterate through. We can!  In order to do so, we must use the keyword `yield` instead of `return`."
   ]
  },
  {
   "cell_type": "markdown",
   "metadata": {},
   "source": [
    "### Our Own Version Of Range\n",
    "\n",
    "Let's write our own version of the `range()` function.  We need to write a function the will yield numbers between a beginning and ending number. Note that when the function reaches the yield keyword, it will return that value (in this case, the value of `i`) and it will cease execution until it is asked for the next value. Let's talk through the example below."
   ]
  },
  {
   "cell_type": "code",
   "execution_count": null,
   "metadata": {},
   "outputs": [],
   "source": [
    "def my_range(beg, end):\n",
    "    \"Generate numbers from start to stop\"\n",
    "    i = beg\n",
    "    while i < end:\n",
    "        yield i\n",
    "        i += 1\n",
    "    "
   ]
  },
  {
   "cell_type": "code",
   "execution_count": null,
   "metadata": {},
   "outputs": [],
   "source": [
    "# Let's call the function to return a generator that we can iterate through. \n",
    "range_of_nums = my_range(0, 10)\n",
    "\n",
    "# Now, let's call the __next__() method to get each value is the it is \n",
    "# \"yielded\" by the generator\n",
    "\n",
    "# This executes the code in the generator until it hits the yield\n",
    "# statement for the first time.  It then stops until __next__() is called again.\n",
    "print(range_of_nums.__next__())\n",
    "\n",
    "# This now resumes executing the code in the generator until it hits the yield\n",
    "# statement a second time. It then stops until __next__() is called again.\n",
    "print(range_of_nums.__next__())\n",
    "\n",
    "# This now resumes executing the code in the generator until it hits the yield\n",
    "# statement a third time. It then stops until __next__() is called again.\n",
    "print(range_of_nums.__next__())"
   ]
  },
  {
   "cell_type": "markdown",
   "metadata": {},
   "source": [
    "We do not usually use the `__next__()` method directly. We are usually looping over the iterator, or passing the iterator to another iterative process (in these case,`__next__()` is still used \"under the hood\", but we are not using it directly as programmers). Below, we simple use `range_of_nums` in a loop, we also use the `my_range()` function directly in a for loop, just like you would use `range()`."
   ]
  },
  {
   "cell_type": "code",
   "execution_count": null,
   "metadata": {},
   "outputs": [],
   "source": [
    "print(\"Example 1:\")\n",
    "range_of_nums = my_range(0, 3)\n",
    "print(type(range_of_nums))\n",
    "for num in range_of_nums:\n",
    "    print(num)\n",
    "\n",
    "print(\"Example 2:\")\n",
    "for num in my_range(30, 33):\n",
    "    print(num)"
   ]
  },
  {
   "cell_type": "markdown",
   "metadata": {},
   "source": [
    "### A Fibonacci Series Generator.\n",
    "A Fibonacci Series is a series of numbers in which the next number is the sum of the two preceding numbers.  If we start with 0 and 1, then the series is 0, 1, 1, 2, 3, 5, 8, 13, etc... This is a fun series that is often used in computer science lessons. Let's code a function that will return a generator that iterates through the Fibonacci Series (starting with 0 and 1)."
   ]
  },
  {
   "cell_type": "code",
   "execution_count": null,
   "metadata": {},
   "outputs": [],
   "source": [
    "def fibonacci_series(N):\n",
    "    \"\"\"Generate the Fibonacci series starting at 0 and 1\"\"\"\n",
    "    # We start by seeding 0 and 1 as the first two numbers\n",
    "    i_prev = 0\n",
    "    i = 1\n",
    "    yield i_prev  # we yield 0 first\n",
    "    # now in the following loop, we yield \"i\" and then calculate i_next by\n",
    "    # summing the two previous\n",
    "    for _ in range(N-1):\n",
    "        yield i \n",
    "        i_next = i + i_prev\n",
    "        i_prev = i\n",
    "        i = i_next"
   ]
  },
  {
   "cell_type": "code",
   "execution_count": null,
   "metadata": {},
   "outputs": [],
   "source": [
    "f_s = fibonacci_series(10)\n",
    "for x in f_s:\n",
    "    print(x)"
   ]
  },
  {
   "cell_type": "markdown",
   "metadata": {},
   "source": [
    "### Iterators Can Only Be Iterated Over Once\n",
    "\n",
    "Once we create an iterator, it can only be iterated over once.  For example, in the above cell we looped over the entirety of `f_s`.  Below, we try to loop over it again, but nothing prints. This is because we have already looped over the iterator to its end.  If we need to iterate again, we will have to create a new iterator."
   ]
  },
  {
   "cell_type": "code",
   "execution_count": null,
   "metadata": {},
   "outputs": [],
   "source": [
    "for x in f_s:\n",
    "    print(x)"
   ]
  },
  {
   "cell_type": "markdown",
   "metadata": {},
   "source": [
    "### Another Fibonacci Series Generator, Using Tuple Unpacking. \n",
    "The above function we coded is great, but we can define the function using fewer lines if we take advantage of tuple unpacking. This allows us to define and update multiple variables in one line. I will talk us through the example below."
   ]
  },
  {
   "cell_type": "code",
   "execution_count": null,
   "metadata": {},
   "outputs": [],
   "source": [
    "def fibonacci_series_2(N):\n",
    "    \"\"\"Generate the Fibonacci series starting at 0 and 1\"\"\"\n",
    "    # We start by seeding 0 and 1 as the first two numbers\n",
    "    i_prev, i = 0, 1\n",
    "    yield i_prev  # we yield 0 first\n",
    "    # now in the following loop, we yield \"i\" and then calculate i_next by\n",
    "    # summing the two previous\n",
    "    for _ in range(N-1):\n",
    "        yield i\n",
    "        # we use tuple unpacking to update the variables in one line. This way\n",
    "        # we do not need to define an i_next variable.\n",
    "        i, i_prev = i + i_prev, i"
   ]
  },
  {
   "cell_type": "code",
   "execution_count": null,
   "metadata": {},
   "outputs": [],
   "source": [
    "for x in fibonacci_series_2(10):\n",
    "    print(x)"
   ]
  },
  {
   "cell_type": "markdown",
   "metadata": {},
   "source": [
    "## File Word Counts\n",
    "\n",
    "Another example, which will become more meaningful if you take the course Python Data Structures, Data Mining and Big Data, is producing a word counts from a file, line by line.\n",
    "\n",
    "Let's write a function that will generate word counts, from a file, line by line."
   ]
  },
  {
   "cell_type": "code",
   "execution_count": null,
   "metadata": {},
   "outputs": [],
   "source": [
    "def file_word_count(filepath):\n",
    "    \"\"\"Generate word counts from ta file, line by line\"\"\"\n",
    "    # First, open the file\n",
    "    with open(filepath, 'r') as my_file:\n",
    "        # Loop through the lines\n",
    "        for line in my_file:\n",
    "            line = line.strip()  # strip whitespace from the line\n",
    "            words = line.split()  # split the line into words\n",
    "            # create a dictionary that we will store the word counts in\n",
    "            word_count_dict = {}\n",
    "            # loop through the words in the line and tally them in the\n",
    "            # dictionary\n",
    "            for word in words:\n",
    "                if word in word_count_dict:\n",
    "                    word_count_dict[word] += 1\n",
    "                else:\n",
    "                    word_count_dict[word] = 1\n",
    "            # now loop through the dictionary and yield up the word counts \n",
    "            for word in word_count_dict:\n",
    "                yield word, word_count_dict[word]"
   ]
  },
  {
   "cell_type": "code",
   "execution_count": null,
   "metadata": {},
   "outputs": [],
   "source": [
    "aesopa10_path = os.path.join(os.getcwd(), 'aesopa10.txt')\n",
    "counter = 0\n",
    "for word, count in file_word_count(aesopa10_path):\n",
    "    print(word, count)\n",
    "    counter += 1\n",
    "    if counter > 2000:\n",
    "        break"
   ]
  },
  {
   "cell_type": "code",
   "execution_count": null,
   "metadata": {},
   "outputs": [],
   "source": []
  }
 ],
 "metadata": {
  "hide_input": false,
  "kernelspec": {
   "display_name": "Python 3",
   "language": "python",
   "name": "python3"
  },
  "language_info": {
   "codemirror_mode": {
    "name": "ipython",
    "version": 3
   },
   "file_extension": ".py",
   "mimetype": "text/x-python",
   "name": "python",
   "nbconvert_exporter": "python",
   "pygments_lexer": "ipython3",
   "version": "3.6.5"
  }
 },
 "nbformat": 4,
 "nbformat_minor": 2
}
