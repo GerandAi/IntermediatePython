{
 "cells": [
  {
   "cell_type": "markdown",
   "metadata": {},
   "source": [
    "# Introducing Closures\n",
    "\n",
    "What is a closure?? Well, in the last lecture how we defined an `outer_function` that returned an `inner_function`. Closure allow us to do that, but with more customization of the inner functions. The results can be powerful.\n",
    "\n",
    "Let's look at the wikipedia definition:\n",
    "\n",
    "> In programming languages, a closure (also lexical closure or function closure) is a technique for implementing lexically scoped name binding in a language with first-class functions. Operationally, a closure is a record storing a function[a] together with an environment.\n",
    "https://en.wikipedia.org/wiki/Closure_(computer_programming)\n",
    "\n",
    "If that is confusing, that's ok. By now you know everything you need to know to start learning about closures. So let's do this..."
   ]
  },
  {
   "cell_type": "markdown",
   "metadata": {},
   "source": [
    "### A Simple Example"
   ]
  },
  {
   "cell_type": "markdown",
   "metadata": {},
   "source": [
    "In the previous lecture, we have seen how functions can define functions within them and return those functions. We have looked at some extremely simply examples. Let's look at some *slightly* more involved examples.\n",
    "\n",
    "In the cell below we define a function called `multiple_by_n` (in our previous lectures this would be our 'outer function').  Inside of this function we define a function called `multiply_func` (in our previous lectures this would be called the `inner function`).\n",
    "\n",
    "This is where things get interesting. `multiply_func` takes an argument `x` and then returns the value of `x` times `n`. Since `x` is passed to the function, it will be available in the function's local namespace. `n` is not passed to the function so it will not be in the function's local namespace. However, `n` is passed to `multiple_by_n` so it will be in the *enclosing namespace* of the inner function (`multiply_func`).\n",
    "\n",
    "When we evaluate `multiple_by_n` and pass an argument for `n`, and the the function `multiple_by_n` then returns the function `multiply_func`, the value we pass for `n` will always be the value of `n` for that instance of the function. Said another way, the inner function \"remembers\" the state of its enclosing namespace. **This is a closure**. Once the function is created and returned from the outer function, the enclosing namespaces is \"closed\", it stays the same and it can not be changed in the future.\n",
    "\n",
    "Like anything else, this can be made much more clear via examples!"
   ]
  },
  {
   "cell_type": "code",
   "execution_count": 1,
   "metadata": {},
   "outputs": [],
   "source": [
    "def multiply_by_n(n):\n",
    "    '''Return a function that multiples its argument x by n'''\n",
    "    def multiply_func(x):\n",
    "        \"\"\"Multiply x by a number\"\"\"\n",
    "        return x * n\n",
    "    \n",
    "    return multiply_func "
   ]
  },
  {
   "cell_type": "markdown",
   "metadata": {},
   "source": [
    "We have defined our functions above, now let's us them below.  We execute the function `multiple_by_n` below and we pass to it `5` as the value for `n`.  The function then executes and returns a function that we assign to the name `multiply_by_5`. The function that is returned is defined in the cell above (the definition for `multiply_func`). The value of `n` for *this instance of the function* will always be `5` because that was the value for `n` when this instance of the function was created"
   ]
  },
  {
   "cell_type": "code",
   "execution_count": 2,
   "metadata": {},
   "outputs": [
    {
     "name": "stdout",
     "output_type": "stream",
     "text": [
      "10\n",
      "15\n",
      "multiply_func\n",
      "Multiply x by a number\n"
     ]
    }
   ],
   "source": [
    "# We call the function multipl_by_n to create the function multiply_by_5.\n",
    "multiply_by_5 = multiply_by_n(5)\n",
    "\n",
    "# We then use the function, multiply_by_5, to mutiply some numbers by 5!\n",
    "print(multiply_by_5(2))\n",
    "print(multiply_by_5(3))\n",
    "\n",
    "print(multiply_by_5.__name__)\n",
    "print(multiply_by_5.__doc__)"
   ]
  },
  {
   "cell_type": "markdown",
   "metadata": {},
   "source": [
    "### Let's now creaate more of these 'multiply_by..' functions!\n",
    "This example is identical to the one above, except we pass `99` as the value for `n` and create a function that multiples numbers by 99. We assign this function the name 'multiple_by_99'."
   ]
  },
  {
   "cell_type": "code",
   "execution_count": 3,
   "metadata": {},
   "outputs": [
    {
     "name": "stdout",
     "output_type": "stream",
     "text": [
      "35\n",
      "297\n",
      "266\n",
      "400\n",
      "85\n"
     ]
    }
   ],
   "source": [
    "multiply_by_99 = multiply_by_n(99)\n",
    "multiply_by_7 = multiply_by_n(7)\n",
    "multiply_by_200 = multiply_by_n(200)\n",
    "multiply_by_17 = multiply_by_n(17)\n",
    "\n",
    "print(multiply_by_5(7))\n",
    "print(multiply_by_99(3))\n",
    "print(multiply_by_7(38))\n",
    "print(multiply_by_200(2))\n",
    "print(multiply_by_17(5))"
   ]
  },
  {
   "cell_type": "markdown",
   "metadata": {},
   "source": [
    "## Creating Functions That Print Different Messages\n",
    "We can also use closer to create functions that print different messages."
   ]
  },
  {
   "cell_type": "code",
   "execution_count": 4,
   "metadata": {},
   "outputs": [],
   "source": [
    "def create_message_function(msg):\n",
    "    '''return a function that prints msg'''\n",
    "    def inner_function():\n",
    "        '''print msg'''\n",
    "        print(msg)\n",
    "    return inner_function"
   ]
  },
  {
   "cell_type": "code",
   "execution_count": 5,
   "metadata": {},
   "outputs": [
    {
     "name": "stdout",
     "output_type": "stream",
     "text": [
      "Hello\n",
      "Goodbye\n"
     ]
    }
   ],
   "source": [
    "say_hello = create_message_function(\"Hello\")\n",
    "say_goodbye = create_message_function(\"Goodbye\")\n",
    "\n",
    "say_hello()\n",
    "say_goodbye()"
   ]
  },
  {
   "cell_type": "markdown",
   "metadata": {},
   "source": [
    "# Using Closures To Modify Functions\n",
    "\n",
    "We have seen how we can use closure to produce new functions by defining 'inner functions' inside of 'outer functions'. Now, what if we used this strategy to modify existing functions. Let's talk through an example of this below.\n",
    "\n",
    "In the cell below, we define a function called `say_my_name`. This function takes one argument called `func` and this argument will be a function. That is, we will pass a function as the argument to the `say_my_name` function. Inside of the `say_my_name` function, we define another function called `wrapper`. Inside the wrapper function, we print the name of `func` and we also execute `func`.  Also, notice the arguments for `wrapper`, it accepts all positional and all keyword arguments by using `*args` and `**kwargs`. It then passes these to `func`.  We must use `*args` and `**kwargs` so that this will work with any function that we pass as the argument `func`.  We won't know ahead of time which arguments that function takes, so we must use `*args` and `**kwargs` so it will accept all arguments"
   ]
  },
  {
   "cell_type": "code",
   "execution_count": 6,
   "metadata": {},
   "outputs": [],
   "source": [
    "def say_my_name(func):\n",
    "    \"\"\"create a function that executes func, but first prints the name\n",
    "    of func\n",
    "    \"\"\"\n",
    "    def wrapper(*args, **kwargs):\n",
    "        '''print the name of func and then execute func.'''\n",
    "        print('My name is: ', func.__name__)\n",
    "        result = func(*args, **kwargs)\n",
    "        return result\n",
    "    return wrapper    "
   ]
  },
  {
   "cell_type": "markdown",
   "metadata": {},
   "source": [
    "### Let's now test our `say_my_name` function.\n",
    "\n",
    "First, we define a function called `add_2` in the cell below. We then pass it as an argument to `say_my_name` which return the `wrapper` function.  We assign the `wrapper` function to the name `add_2_w_name` and then we execute that function."
   ]
  },
  {
   "cell_type": "code",
   "execution_count": 7,
   "metadata": {},
   "outputs": [
    {
     "name": "stdout",
     "output_type": "stream",
     "text": [
      "My name is:  add_2\n",
      "6\n"
     ]
    }
   ],
   "source": [
    "def add_2(x):\n",
    "    '''Add 2 to x'''\n",
    "    return x + 2\n",
    "\n",
    "add_2_w_name = say_my_name(add_2)\n",
    "result = add_2_w_name(4)\n",
    "print(result)"
   ]
  },
  {
   "cell_type": "markdown",
   "metadata": {},
   "source": [
    "We repeat the steps above, but with another function we define, called `subtract 2`."
   ]
  },
  {
   "cell_type": "code",
   "execution_count": 8,
   "metadata": {},
   "outputs": [
    {
     "name": "stdout",
     "output_type": "stream",
     "text": [
      "My name is:  add_2\n",
      "6\n",
      "My name is:  subtract_2\n",
      "2\n"
     ]
    }
   ],
   "source": [
    "def subtract_2(x):\n",
    "    '''Subtract 2 from x'''\n",
    "    return x - 2\n",
    "\n",
    "subtract_2 = say_my_name(subtract_2)\n",
    "print(add_2_w_name(4))\n",
    "print(subtract_2(4))"
   ]
  },
  {
   "cell_type": "markdown",
   "metadata": {},
   "source": [
    "#### Notice the output of the __name__ and __doc__ attributes of the `add_2` and `subtract_2` functions."
   ]
  },
  {
   "cell_type": "code",
   "execution_count": 10,
   "metadata": {},
   "outputs": [
    {
     "name": "stdout",
     "output_type": "stream",
     "text": [
      "wrapper\n",
      "print the name of func and then execute func.\n",
      "wrapper\n",
      "print the name of func and then execute func.\n"
     ]
    }
   ],
   "source": [
    "print(add_2_w_name.__name__)\n",
    "print(add_2_w_name.__doc__)\n",
    "\n",
    "print(subtract_2.__name__)\n",
    "print(subtract_2.__doc__)"
   ]
  },
  {
   "attachments": {
    "Success.png": {
     "image/png": "[encoded data removed]"
    }
   },
   "cell_type": "markdown",
   "metadata": {},
   "source": [
    "![Success.png](attachment:Success.png)"
   ]
  },
  {
   "cell_type": "code",
   "execution_count": null,
   "metadata": {},
   "outputs": [],
   "source": []
  }
 ],
 "metadata": {
  "hide_input": false,
  "kernelspec": {
   "display_name": "Python 3",
   "language": "python",
   "name": "python3"
  },
  "language_info": {
   "codemirror_mode": {
    "name": "ipython",
    "version": 3
   },
   "file_extension": ".py",
   "mimetype": "text/x-python",
   "name": "python",
   "nbconvert_exporter": "python",
   "pygments_lexer": "ipython3",
   "version": "3.6.5"
  }
 },
 "nbformat": 4,
 "nbformat_minor": 2
}
