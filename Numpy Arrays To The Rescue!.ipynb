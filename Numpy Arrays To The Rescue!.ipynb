{
 "cells": [
  {
   "cell_type": "code",
   "execution_count": null,
   "metadata": {},
   "outputs": [],
   "source": [
    "import numpy as np\n",
    "import random\n",
    "import time"
   ]
  },
  {
   "cell_type": "markdown",
   "metadata": {},
   "source": [
    "# Introducing NumPy Arrays!\n",
    "\n",
    "The numpy library provides high-performance arrays and matrices that we can use to dramatically speed up the runtime of our code.  Numpy uses underlying compiled code (C/C++) to achieve this!\n",
    "\n",
    "Processing data in a numpy array is MUCH faster than processing it in a Python list. If you find yourself processing lists of numbers, you should ALWAYS ask yourself if you could model it as an array and model the processing steps 'vector/matrix math'.\n",
    "\n",
    "For those of you that have taking the Python for Data Analysis course, you should know that Pandas is built on top of Numpy, and this is what makes column operations so fast. \n",
    "\n",
    "Numpy is a large python package, and we could spend many hours exploring it. If you like what you see in these lectures, feel free to explore the docs and tutorials here: http://www.numpy.org/\n",
    "\n",
    "\n",
    "**Note**: When thinking about how can your python code run faster - it often comes down to this question - \"is there a module/library I can use that implements compiled code (like C)?\". Numpy, Scikit-Learn, Pandas, Dask, TensorFlow, are all built on top of numpy for or have their own compiled code they use.\n",
    "\n"
   ]
  },
  {
   "cell_type": "markdown",
   "metadata": {},
   "source": [
    "## A Motivating Example:\n",
    "\n",
    "Below is the function we used from a previous lecture to convert a list of temperatures in Celsius to Fahrenheit. Let's test this on a long list!"
   ]
  },
  {
   "cell_type": "code",
   "execution_count": null,
   "metadata": {},
   "outputs": [],
   "source": [
    "def convert_c_to_f(temps_c):\n",
    "    '''Take a list of temps in celcius, and convert them to fahrenheit and add\n",
    "    them to a new list'''\n",
    "    temps_fahrenheit = []\n",
    "    for tc in temps_c:\n",
    "        tf = (tc * (9/5)) + 32\n",
    "        temps_fahrenheit.append(tf)\n",
    "    return temps_fahrenheit"
   ]
  },
  {
   "cell_type": "markdown",
   "metadata": {},
   "source": [
    "##### Let's now create a list of fake Celsius temps and time our function with timeit"
   ]
  },
  {
   "cell_type": "code",
   "execution_count": null,
   "metadata": {},
   "outputs": [],
   "source": [
    "temps_c_list = range(1000)"
   ]
  },
  {
   "cell_type": "code",
   "execution_count": 66,
   "metadata": {},
   "outputs": [
    {
     "name": "stdout",
     "output_type": "stream",
     "text": [
      "196 µs ± 772 ns per loop (mean ± std. dev. of 7 runs, 10000 loops each)\n"
     ]
    }
   ],
   "source": [
    "%%timeit\n",
    "convert_c_to_f(temps_c_list)"
   ]
  },
  {
   "cell_type": "markdown",
   "metadata": {},
   "source": [
    "##### Now create a numpy array of the same fake Celsius temps and test the conversion to Fahrenheit"
   ]
  },
  {
   "cell_type": "code",
   "execution_count": null,
   "metadata": {},
   "outputs": [],
   "source": [
    "temps_c_array = np.array(temps_c_list)"
   ]
  },
  {
   "cell_type": "code",
   "execution_count": null,
   "metadata": {
    "scrolled": true
   },
   "outputs": [],
   "source": [
    "print(type(temps_c_array))\n",
    "print(temps_c_array[:10])"
   ]
  },
  {
   "cell_type": "code",
   "execution_count": 65,
   "metadata": {},
   "outputs": [
    {
     "name": "stdout",
     "output_type": "stream",
     "text": [
      "151 µs ± 707 ns per loop (mean ± std. dev. of 7 runs, 10000 loops each)\n"
     ]
    }
   ],
   "source": [
    "%%timeit\n",
    "temps_c_array = np.array(temps_c_list)\n",
    "temps_c_array * (9/5) + 32"
   ]
  },
  {
   "cell_type": "code",
   "execution_count": null,
   "metadata": {},
   "outputs": [],
   "source": [
    "temps_f_list = convert_c_to_f(temps_c_list)\n",
    "temps_f_array = temps_c_array * (9/5) + 32\n",
    "print(temps_f_list[:10])\n",
    "print(temps_f_array[:10])"
   ]
  },
  {
   "cell_type": "markdown",
   "metadata": {},
   "source": [
    "## Basic NumPy Math and Operations"
   ]
  },
  {
   "cell_type": "code",
   "execution_count": null,
   "metadata": {},
   "outputs": [],
   "source": [
    "my_array_1 = np.array([1, 2, 3, 4])\n",
    "my_array_2 = np.array([5, 6, 7, 8])\n",
    "\n",
    "# element wise addition, substraction, multiplication and division\n",
    "print(my_array_1 + my_array_2)\n",
    "print(my_array_1 - my_array_2)\n",
    "print(my_array_1 * my_array_2)\n",
    "print(my_array_1 / my_array_2)\n",
    "\n",
    "# element wise addition, substraction, multiplication and division\n",
    "\n",
    "print(my_array_1 + 31)\n",
    "print(my_array_1 - 7.6)\n",
    "print(my_array_1 * 4.4)\n",
    "print(my_array_1 / 21)\n",
    "\n",
    "# mean, sum, std\n",
    "print(my_array_1.mean())\n",
    "print(my_array_1.sum())\n",
    "print(my_array_1.std())"
   ]
  },
  {
   "cell_type": "markdown",
   "metadata": {},
   "source": [
    "## Booleans"
   ]
  },
  {
   "cell_type": "code",
   "execution_count": null,
   "metadata": {},
   "outputs": [],
   "source": [
    "print(my_array_1 > 2.1)\n",
    "print(my_array_2 == 6)\n",
    "\n",
    "# chaining some things together, how many 7s are in this array?\n",
    "my_array = np.array([1, 2, 7, 5, 4, 7, 8, 7])\n",
    "print((my_array == 7).sum())\n",
    "\n",
    "# Are all of the elements in this array 1s?\n",
    "my_array = np.array([1, 1, 1, 1, 0])\n",
    "print((my_array == 1).all())\n",
    "\n",
    "# Are any of the elements in this array 1s?\n",
    "my_array = np.array([0, 0, 0, 1, 0])\n",
    "print((my_array == 1).any())"
   ]
  },
  {
   "cell_type": "markdown",
   "metadata": {},
   "source": [
    "## Indexing"
   ]
  },
  {
   "cell_type": "code",
   "execution_count": null,
   "metadata": {},
   "outputs": [],
   "source": [
    "my_array = np.array([3.1, 6.3, 1.1, 3.4])\n",
    "print(my_array[my_array > 3])\n",
    "\n",
    "my_array = np.array([3.1, 6.3, 1.1, 3.4])\n",
    "print((my_array[my_array > 3]).mean())"
   ]
  },
  {
   "cell_type": "markdown",
   "metadata": {},
   "source": [
    "## Multidimensional Arrays"
   ]
  },
  {
   "cell_type": "markdown",
   "metadata": {},
   "source": [
    "### 2d Array"
   ]
  },
  {
   "cell_type": "code",
   "execution_count": null,
   "metadata": {},
   "outputs": [],
   "source": [
    "array_of_ones = np.zeros((4, 5))\n",
    "print(array_of_ones)"
   ]
  },
  {
   "cell_type": "markdown",
   "metadata": {},
   "source": [
    "### 3d Array"
   ]
  },
  {
   "cell_type": "code",
   "execution_count": null,
   "metadata": {},
   "outputs": [],
   "source": [
    "array_of_ones = np.ones((3, 4, 5))\n",
    "print(array_of_ones)"
   ]
  },
  {
   "cell_type": "markdown",
   "metadata": {},
   "source": [
    "### Arrays From Nested Lists"
   ]
  },
  {
   "cell_type": "code",
   "execution_count": null,
   "metadata": {},
   "outputs": [],
   "source": [
    "nested_lists = [[1, 2], [3, 4], [5, 6]]\n",
    "my_2d_array = np.array(nested_lists)"
   ]
  },
  {
   "cell_type": "code",
   "execution_count": null,
   "metadata": {},
   "outputs": [],
   "source": [
    "my_2d_array"
   ]
  },
  {
   "cell_type": "markdown",
   "metadata": {},
   "source": [
    "## Another Example Problem\n",
    "\n",
    "You have a years worth of hourly temperatures for 100 weather station, and you need to find the max temperature at each station. Should we process each station data as an individual list or should we create a large 2d array, where each row is a station, and find the max of each row in one numpy command?"
   ]
  },
  {
   "cell_type": "markdown",
   "metadata": {},
   "source": [
    "### Create The Station Data"
   ]
  },
  {
   "cell_type": "code",
   "execution_count": 67,
   "metadata": {
    "scrolled": true
   },
   "outputs": [
    {
     "name": "stdout",
     "output_type": "stream",
     "text": [
      "100\n",
      "8760\n"
     ]
    }
   ],
   "source": [
    "all_station_temps = []\n",
    "num_weather_stations = 100\n",
    "num_temps = 24*365\n",
    "for station in range(num_weather_stations):\n",
    "    station_temps = [random.random()*100 for _ in range(num_temps)]\n",
    "    all_station_temps.append(station_temps)\n",
    "    \n",
    "\n",
    "print(len(all_station_temps))\n",
    "print(len(all_station_temps[0]))\n"
   ]
  },
  {
   "cell_type": "markdown",
   "metadata": {},
   "source": [
    "## Calculate The Max Temp From Each Station"
   ]
  },
  {
   "cell_type": "code",
   "execution_count": 68,
   "metadata": {},
   "outputs": [
    {
     "name": "stdout",
     "output_type": "stream",
     "text": [
      "20.5 ms ± 397 µs per loop (mean ± std. dev. of 7 runs, 100 loops each)\n"
     ]
    }
   ],
   "source": [
    "%%timeit\n",
    "max_station_temps = []\n",
    "for station_temps in all_station_temps:\n",
    "    max_station_temps.append(max(station_temps))"
   ]
  },
  {
   "cell_type": "code",
   "execution_count": 71,
   "metadata": {},
   "outputs": [
    {
     "name": "stdout",
     "output_type": "stream",
     "text": [
      "462 µs ± 8.67 µs per loop (mean ± std. dev. of 7 runs, 1000 loops each)\n"
     ]
    }
   ],
   "source": [
    "%%timeit\n",
    "station_temps_array = np.array(all_station_temps)\n",
    "max_station_temps_array = station_temps_array.max(axis=1)"
   ]
  },
  {
   "cell_type": "markdown",
   "metadata": {},
   "source": [
    "### Indexing With Strings Versus Ints\n",
    "\n",
    "Another tip I want to share with you, because it has served me well, is converting categorical string data to integer data before processing."
   ]
  },
  {
   "cell_type": "code",
   "execution_count": 72,
   "metadata": {},
   "outputs": [],
   "source": [
    "labels = ['ABC', 'DEF', 'GHI', 'JKL']\n",
    "labels_dict = {'ABC': 0, 'DEF': 1, 'GHI': 2, 'JKL': 3}\n",
    "\n",
    "# Create a random list of the label data\n",
    "list_of_labels = [labels[random.randint(0,3)] for _ in range(1000)]\n",
    "label_array = np.array(list_of_labels)\n",
    "\n",
    "# Create a random list of the data, but use integers instead of strings.\n",
    "list_of_label_nums = [labels_dict[label] for label in list_of_labels]\n",
    "label_num_array = np.array(list_of_label_nums)"
   ]
  },
  {
   "cell_type": "markdown",
   "metadata": {},
   "source": [
    "### Now test indexing the array!"
   ]
  },
  {
   "cell_type": "code",
   "execution_count": 73,
   "metadata": {},
   "outputs": [
    {
     "name": "stdout",
     "output_type": "stream",
     "text": [
      "15.4 µs ± 69.3 ns per loop (mean ± std. dev. of 7 runs, 100000 loops each)\n"
     ]
    }
   ],
   "source": [
    "%%timeit\n",
    "ix_abc = label_array == \"ABC\""
   ]
  },
  {
   "cell_type": "code",
   "execution_count": 74,
   "metadata": {},
   "outputs": [
    {
     "name": "stdout",
     "output_type": "stream",
     "text": [
      "3.41 µs ± 80.2 ns per loop (mean ± std. dev. of 7 runs, 100000 loops each)\n"
     ]
    }
   ],
   "source": [
    "%%timeit\n",
    "ix_abc = label_num_array == 0"
   ]
  },
  {
   "cell_type": "code",
   "execution_count": null,
   "metadata": {},
   "outputs": [],
   "source": []
  }
 ],
 "metadata": {
  "hide_input": false,
  "kernelspec": {
   "display_name": "Python 3",
   "language": "python",
   "name": "python3"
  },
  "language_info": {
   "codemirror_mode": {
    "name": "ipython",
    "version": 3
   },
   "file_extension": ".py",
   "mimetype": "text/x-python",
   "name": "python",
   "nbconvert_exporter": "python",
   "pygments_lexer": "ipython3",
   "version": "3.6.5"
  }
 },
 "nbformat": 4,
 "nbformat_minor": 2
}
