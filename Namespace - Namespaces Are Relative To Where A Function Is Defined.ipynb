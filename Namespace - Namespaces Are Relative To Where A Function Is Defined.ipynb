{
 "cells": [
  {
   "cell_type": "markdown",
   "metadata": {},
   "source": [
    "# Namespaces  Are Relative To Where A Function (or Class) Is Defined\n",
    "\n",
    "This may not be obvious, but the global namespace of a function is the global namespace of the module it was defined in NOT the script that it is used in.\n",
    "\n",
    "We will see this in the example below."
   ]
  },
  {
   "cell_type": "markdown",
   "metadata": {},
   "source": [
    "First, we will create a simple python file called 'week4_test_functions.py' (a module!) using jupyter notebook. We will write a simple function in this file.  Then, we will import the function from that file and use it in the cell below. Let's first create the module together in the lecture video.\n",
    "\n",
    "\n",
    "When we run it below, we get an error. Why does this happen?  First let's think about the function. The function is very simple, it just ties to print the variable `x`, but `x` is not defined in the function's local namespace. So, the python interpreter will not find `x` in the local namespace and then it will search the global namespace. But which global namespace does it search? It searches the global namesapce of the python module the function was defined in. It does not search the global namespace of where the function is used (in this case that would be this notebook's global namespace). So, even though we defined `x` in the cell below and it is in the notebooks's global namespace, this `x` is never found."
   ]
  },
  {
   "cell_type": "code",
   "execution_count": 1,
   "metadata": {},
   "outputs": [
    {
     "ename": "NameError",
     "evalue": "name 'x' is not defined",
     "output_type": "error",
     "traceback": [
      "\u001b[0;31m---------------------------------------------------------------------------\u001b[0m",
      "\u001b[0;31mNameError\u001b[0m                                 Traceback (most recent call last)",
      "\u001b[0;32m<ipython-input-1-6d91ed846910>\u001b[0m in \u001b[0;36m<module>\u001b[0;34m()\u001b[0m\n\u001b[1;32m      1\u001b[0m \u001b[0;32mimport\u001b[0m \u001b[0mweek4_test_functions\u001b[0m\u001b[0;34m\u001b[0m\u001b[0m\n\u001b[1;32m      2\u001b[0m \u001b[0mx\u001b[0m \u001b[0;34m=\u001b[0m \u001b[0;36m0\u001b[0m\u001b[0;34m\u001b[0m\u001b[0m\n\u001b[0;32m----> 3\u001b[0;31m \u001b[0mweek4_test_functions\u001b[0m\u001b[0;34m.\u001b[0m\u001b[0mmy_func\u001b[0m\u001b[0;34m(\u001b[0m\u001b[0;34m)\u001b[0m\u001b[0;34m\u001b[0m\u001b[0m\n\u001b[0m",
      "\u001b[0;32m~/Documents/1_Projects/UCI_Intermediate_Python/Week 4/week4_test_functions.py\u001b[0m in \u001b[0;36mmy_func\u001b[0;34m()\u001b[0m\n\u001b[1;32m      1\u001b[0m \u001b[0;32mdef\u001b[0m \u001b[0mmy_func\u001b[0m\u001b[0;34m(\u001b[0m\u001b[0;34m)\u001b[0m\u001b[0;34m:\u001b[0m\u001b[0;34m\u001b[0m\u001b[0m\n\u001b[0;32m----> 2\u001b[0;31m     \u001b[0mprint\u001b[0m\u001b[0;34m(\u001b[0m\u001b[0mx\u001b[0m\u001b[0;34m)\u001b[0m\u001b[0;34m\u001b[0m\u001b[0m\n\u001b[0m\u001b[1;32m      3\u001b[0m     \u001b[0;32mreturn\u001b[0m\u001b[0;34m\u001b[0m\u001b[0m\n",
      "\u001b[0;31mNameError\u001b[0m: name 'x' is not defined"
     ]
    }
   ],
   "source": [
    "import week4_test_functions\n",
    "x = 0\n",
    "week4_test_functions.my_func()"
   ]
  },
  {
   "cell_type": "markdown",
   "metadata": {},
   "source": [
    "Let's now update the `week4_test_functions` file and add `x` to the global namespace. Now the function will not error when we run it below, because `x` now exists in the global namespace of the module where the function is defined.\n",
    "\n",
    "***NOTE: Remember you almost never (99.95% of the time) want functions accessing variables in the global namespace. The point of this is to illustrate how the namespace hierarchy search is relative to where the function, or class, is defined***"
   ]
  },
  {
   "cell_type": "code",
   "execution_count": 2,
   "metadata": {},
   "outputs": [
    {
     "name": "stdout",
     "output_type": "stream",
     "text": [
      "99\n"
     ]
    }
   ],
   "source": [
    "import importlib\n",
    "importlib.reload(week4_test_functions)\n",
    "\n",
    "week4_test_functions.my_func()"
   ]
  },
  {
   "cell_type": "code",
   "execution_count": null,
   "metadata": {},
   "outputs": [],
   "source": []
  }
 ],
 "metadata": {
  "hide_input": false,
  "kernelspec": {
   "display_name": "Python 3",
   "language": "python",
   "name": "python3"
  },
  "language_info": {
   "codemirror_mode": {
    "name": "ipython",
    "version": 3
   },
   "file_extension": ".py",
   "mimetype": "text/x-python",
   "name": "python",
   "nbconvert_exporter": "python",
   "pygments_lexer": "ipython3",
   "version": "3.6.5"
  }
 },
 "nbformat": 4,
 "nbformat_minor": 2
}
