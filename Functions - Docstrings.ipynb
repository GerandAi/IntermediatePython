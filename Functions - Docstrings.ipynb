{
 "cells": [
  {
   "cell_type": "markdown",
   "metadata": {},
   "source": [
    "# Functions - Docstrings\n",
    "\n",
    "We have not yet discussed function docstrings.  Docstrings are strings define at the top of a function that provide documentation for a function.  Including docstrings in your functions is important because they help others, and your future self, understand how to use your functions. \n",
    "\n",
    "Docstrings are defined between triple quotes (at the top of functions). `\"\"\"I am a docstring\"\"\"`\n",
    "\n",
    "There are two main categories of docstrings for functions. The categories are 'one-line docstrings' and 'multi-line docstrings'."
   ]
  },
  {
   "cell_type": "code",
   "execution_count": 1,
   "metadata": {},
   "outputs": [],
   "source": [
    "# I use the pi constant in a function below, so I import it here.\n",
    "import math"
   ]
  },
  {
   "cell_type": "markdown",
   "metadata": {},
   "source": [
    "## One-line Docstrings\n",
    "A one line docstring is what it sounds like - one line. These are for very simply functions where only only one line is needed. Let's look at an example below. This is a simple function with a simple one-line docstring. Notice how the docstring is written as a command, \"Return the value...\" not a description \"This function returns the value...\""
   ]
  },
  {
   "cell_type": "code",
   "execution_count": 2,
   "metadata": {},
   "outputs": [],
   "source": [
    "def add_2(num):\n",
    "    \"\"\"Return the value of num + 2.\"\"\"\n",
    "    return_num = num + 2\n",
    "    return num"
   ]
  },
  {
   "cell_type": "markdown",
   "metadata": {},
   "source": [
    "## Printing Docstrings\n",
    "We can print doc strings by printing the __doc__ attribute of the function.  This is a built-in attribute and all objects have it (even if the value is None).\n",
    "\n",
    "Many editors and IDEs have special functionality / commands to print docstrings. For example, if you write the '?' key after a function name, in Jupyter Notebook, and then evaluate the cell, it will open a window with the docstrings.  See the example below."
   ]
  },
  {
   "cell_type": "code",
   "execution_count": 3,
   "metadata": {},
   "outputs": [
    {
     "name": "stdout",
     "output_type": "stream",
     "text": [
      "Return the value of num + 2.\n"
     ]
    }
   ],
   "source": [
    "# Below is an example of printing the docstring directly\n",
    "print(add_2.__doc__)"
   ]
  },
  {
   "cell_type": "code",
   "execution_count": 4,
   "metadata": {},
   "outputs": [
    {
     "name": "stdout",
     "output_type": "stream",
     "text": [
      "Help on function add_2 in module __main__:\n",
      "\n",
      "add_2(num)\n",
      "    Return the value of num + 2.\n",
      "\n"
     ]
    }
   ],
   "source": [
    "help(add_2)"
   ]
  },
  {
   "cell_type": "code",
   "execution_count": 5,
   "metadata": {},
   "outputs": [],
   "source": [
    "# Below is an example of using Jupyter Notebooks '?' command\n",
    "add_2?"
   ]
  },
  {
   "cell_type": "markdown",
   "metadata": {},
   "source": [
    "## Multi-line Docstrings\n",
    "A multi-line docstring provide more information but it still starts with single line description, followed by a blank line, and then a more detailed description. The more detailed description includes a description of the arguments, the return value(s), exceptions that the function raises, and any side effects.  It may also included references to similar functions and other helpful information.\n",
    "\n",
    "Let's see an example below. Note that I am using the format used in libraries like numpy and scikit-learn."
   ]
  },
  {
   "cell_type": "code",
   "execution_count": 6,
   "metadata": {},
   "outputs": [],
   "source": [
    "def circle(radius):\n",
    "    \"\"\"Return the circumference and area of a circle, given the radius.\n",
    "    \n",
    "    Parameters\n",
    "    ----------\n",
    "    radius : float, int\n",
    "        the radius of the circle.\n",
    "        \n",
    "    Returns\n",
    "    -------\n",
    "    circumference : float\n",
    "        the circumference of the circle.\n",
    "    \n",
    "    area : float\n",
    "        the area of the circle.\n",
    "    \n",
    "    \"\"\"\n",
    "    circumference = 2*math.pi*radius\n",
    "    area = math.pi*(radius**2)\n",
    "    return circumference, area"
   ]
  },
  {
   "cell_type": "markdown",
   "metadata": {},
   "source": [
    "Below, let's practice using `print` and `?` to print the docs."
   ]
  },
  {
   "cell_type": "code",
   "execution_count": 7,
   "metadata": {},
   "outputs": [
    {
     "name": "stdout",
     "output_type": "stream",
     "text": [
      "Return the circumference and area of a circle, given the radius.\n",
      "    \n",
      "    Parameters\n",
      "    ----------\n",
      "    radius : float, int\n",
      "        the radius of the circle.\n",
      "        \n",
      "    Returns\n",
      "    -------\n",
      "    circumference : float\n",
      "        the circumference of the circle.\n",
      "    \n",
      "    area : float\n",
      "        the area of the circle.\n",
      "    \n",
      "    \n"
     ]
    }
   ],
   "source": [
    "print(circle.__doc__)"
   ]
  },
  {
   "cell_type": "code",
   "execution_count": 8,
   "metadata": {},
   "outputs": [],
   "source": [
    "# Below is an example of using Jupyter Notebooks '?' command\n",
    "circle?"
   ]
  },
  {
   "cell_type": "markdown",
   "metadata": {},
   "source": [
    "## In Class Exercise:\n",
    "Try to add a multi-line docstring to the function below. Then print it using the `print()` function and view it using the '?' Jupyter Notebook Command."
   ]
  },
  {
   "cell_type": "code",
   "execution_count": null,
   "metadata": {},
   "outputs": [],
   "source": [
    "def replicate_items(my_list, num_reps):\n",
    "    new_list = []\n",
    "    for item in my_list:\n",
    "        for n in range(num_reps):\n",
    "            new_list.append(item)\n",
    "    return new_list"
   ]
  },
  {
   "cell_type": "markdown",
   "metadata": {},
   "source": [
    "## SPOILER - Answer To In Class Exercise Below:\n",
    "    *\n",
    "    *\n",
    "    *\n",
    "    *\n",
    "    *\n",
    "## Don't look until you have at least tried one attempt above"
   ]
  },
  {
   "cell_type": "code",
   "execution_count": null,
   "metadata": {},
   "outputs": [],
   "source": []
  }
 ],
 "metadata": {
  "hide_input": false,
  "kernelspec": {
   "display_name": "Python 3",
   "language": "python",
   "name": "python3"
  },
  "language_info": {
   "codemirror_mode": {
    "name": "ipython",
    "version": 3
   },
   "file_extension": ".py",
   "mimetype": "text/x-python",
   "name": "python",
   "nbconvert_exporter": "python",
   "pygments_lexer": "ipython3",
   "version": "3.6.5"
  }
 },
 "nbformat": 4,
 "nbformat_minor": 2
}
